{
  "nbformat": 4,
  "nbformat_minor": 0,
  "metadata": {
    "colab": {
      "provenance": []
    },
    "kernelspec": {
      "name": "python3",
      "display_name": "Python 3"
    },
    "language_info": {
      "name": "python"
    }
  },
  "cells": [
    {
      "cell_type": "code",
      "execution_count": 1,
      "metadata": {
        "colab": {
          "base_uri": "https://localhost:8080/"
        },
        "id": "e8bRJzmIBLrC",
        "outputId": "ee64049e-67e7-4a8c-9ad2-a63e48b7a8c2"
      },
      "outputs": [
        {
          "output_type": "stream",
          "name": "stdout",
          "text": [
            "Collecting ray\n",
            "  Downloading ray-2.34.0-cp310-cp310-manylinux2014_x86_64.whl.metadata (13 kB)\n",
            "Requirement already satisfied: click>=7.0 in /usr/local/lib/python3.10/dist-packages (from ray) (8.1.7)\n",
            "Requirement already satisfied: filelock in /usr/local/lib/python3.10/dist-packages (from ray) (3.15.4)\n",
            "Requirement already satisfied: jsonschema in /usr/local/lib/python3.10/dist-packages (from ray) (4.23.0)\n",
            "Requirement already satisfied: msgpack<2.0.0,>=1.0.0 in /usr/local/lib/python3.10/dist-packages (from ray) (1.0.8)\n",
            "Requirement already satisfied: packaging in /usr/local/lib/python3.10/dist-packages (from ray) (24.1)\n",
            "Requirement already satisfied: protobuf!=3.19.5,>=3.15.3 in /usr/local/lib/python3.10/dist-packages (from ray) (3.20.3)\n",
            "Requirement already satisfied: pyyaml in /usr/local/lib/python3.10/dist-packages (from ray) (6.0.2)\n",
            "Requirement already satisfied: aiosignal in /usr/local/lib/python3.10/dist-packages (from ray) (1.3.1)\n",
            "Requirement already satisfied: frozenlist in /usr/local/lib/python3.10/dist-packages (from ray) (1.4.1)\n",
            "Requirement already satisfied: requests in /usr/local/lib/python3.10/dist-packages (from ray) (2.32.3)\n",
            "Requirement already satisfied: attrs>=22.2.0 in /usr/local/lib/python3.10/dist-packages (from jsonschema->ray) (24.2.0)\n",
            "Requirement already satisfied: jsonschema-specifications>=2023.03.6 in /usr/local/lib/python3.10/dist-packages (from jsonschema->ray) (2023.12.1)\n",
            "Requirement already satisfied: referencing>=0.28.4 in /usr/local/lib/python3.10/dist-packages (from jsonschema->ray) (0.35.1)\n",
            "Requirement already satisfied: rpds-py>=0.7.1 in /usr/local/lib/python3.10/dist-packages (from jsonschema->ray) (0.20.0)\n",
            "Requirement already satisfied: charset-normalizer<4,>=2 in /usr/local/lib/python3.10/dist-packages (from requests->ray) (3.3.2)\n",
            "Requirement already satisfied: idna<4,>=2.5 in /usr/local/lib/python3.10/dist-packages (from requests->ray) (3.7)\n",
            "Requirement already satisfied: urllib3<3,>=1.21.1 in /usr/local/lib/python3.10/dist-packages (from requests->ray) (2.0.7)\n",
            "Requirement already satisfied: certifi>=2017.4.17 in /usr/local/lib/python3.10/dist-packages (from requests->ray) (2024.7.4)\n",
            "Downloading ray-2.34.0-cp310-cp310-manylinux2014_x86_64.whl (64.9 MB)\n",
            "\u001b[2K   \u001b[90m━━━━━━━━━━━━━━━━━━━━━━━━━━━━━━━━━━━━━━━━\u001b[0m \u001b[32m64.9/64.9 MB\u001b[0m \u001b[31m11.0 MB/s\u001b[0m eta \u001b[36m0:00:00\u001b[0m\n",
            "\u001b[?25hInstalling collected packages: ray\n",
            "Successfully installed ray-2.34.0\n"
          ]
        }
      ],
      "source": [
        "!pip install ray"
      ]
    },
    {
      "cell_type": "code",
      "source": [
        "import ray\n",
        "import time\n",
        "\n",
        "ray.init()\n",
        "\n",
        "@ray.remote\n",
        "def slow_function():\n",
        "    time.sleep(5)  # Pretend this is doing some heavy work\n",
        "    return \"Done!\"\n",
        "# Start the remote function\n",
        "future = slow_function.remote()\n",
        "\n",
        "# This prints immediately, we don't wait for slow_function to finish\n",
        "print(\"I can do other things while waiting!\")\n",
        "\n",
        "# When we actually need the result, we use ray.get()\n",
        "result = ray.get(future)\n",
        "print(result)"
      ],
      "metadata": {
        "colab": {
          "base_uri": "https://localhost:8080/"
        },
        "id": "arycDKJRBOfL",
        "outputId": "671f74b9-071e-4ea6-cee1-31403cc9d89e"
      },
      "execution_count": 2,
      "outputs": [
        {
          "output_type": "stream",
          "name": "stderr",
          "text": [
            "2024-08-18 19:45:25,342\tINFO worker.py:1781 -- Started a local Ray instance.\n"
          ]
        },
        {
          "output_type": "stream",
          "name": "stdout",
          "text": [
            "I can do other things while waiting!\n",
            "Done!\n"
          ]
        }
      ]
    },
    {
      "cell_type": "markdown",
      "source": [],
      "metadata": {
        "id": "_Wrs17B6HeSH"
      }
    },
    {
      "cell_type": "code",
      "source": [
        "import ray\n",
        "\n",
        "\n",
        "@ray.remote\n",
        "class StatefulCounter:\n",
        "    def __init__(self):\n",
        "        self.count = 0\n",
        "\n",
        "    def increment(self):\n",
        "        self.count += 1\n",
        "        return self.count\n",
        "\n",
        "@ray.remote\n",
        "def stateless_increment(count):\n",
        "    return count + 1\n",
        "\n",
        "# Stateful example (this is NOT how remote functions work)\n",
        "counter = StatefulCounter.remote()\n",
        "print(ray.get(counter.increment.remote()))  # Prints 1\n",
        "print(ray.get(counter.increment.remote()))  # Prints 2\n",
        "\n",
        "# Stateless example (this IS how remote functions work)\n",
        "print(ray.get(stateless_increment.remote(0)))  # Prints 1\n",
        "print(ray.get(stateless_increment.remote(0)))  # Prints 1 again"
      ],
      "metadata": {
        "colab": {
          "base_uri": "https://localhost:8080/"
        },
        "id": "GzXNvhXpBcz-",
        "outputId": "ab9383ca-2c00-495d-8075-737683c9b6ad"
      },
      "execution_count": 4,
      "outputs": [
        {
          "output_type": "stream",
          "name": "stdout",
          "text": [
            "1\n",
            "2\n",
            "1\n",
            "1\n"
          ]
        }
      ]
    },
    {
      "cell_type": "markdown",
      "source": [
        "### For Actors (stateful):\n",
        "\n",
        "- Use classes decorated with @ray.remote\n",
        "Example: @ray.remote class MyActor:\n",
        "- Maintain state between method calls\n",
        "- Created with actor = MyActor.remote()\n",
        "- Methods called with actor.method.remote()\n",
        "\n",
        "\n",
        "### For Tasks (stateless):\n",
        "\n",
        "- Use functions decorated with @ray.remote\n",
        "Example: @ray.remote def my_task():\n",
        "- Don't maintain state between calls\n",
        "- Called directly with my_task.remote()"
      ],
      "metadata": {
        "id": "Xg2H-aY3HfFz"
      }
    },
    {
      "cell_type": "markdown",
      "source": [
        "# parralelism in ray"
      ],
      "metadata": {
        "id": "scpy6Mc4Mlca"
      }
    },
    {
      "cell_type": "code",
      "source": [
        "def square(x):\n",
        "    time.sleep(1)  # Simulate some computation time\n",
        "    return x * x\n",
        "\n",
        "# Define the same function as a Ray remote function\n",
        "@ray.remote\n",
        "def square_ray(x):\n",
        "    time.sleep(1)  # Simulate some computation time\n",
        "    return x * x\n",
        "\n",
        "# Number of tasks we want to run\n",
        "num_tasks = 5\n",
        "\n",
        "# Normal Python execution\n",
        "start_time = time.time()\n",
        "results_normal = [square(i) for i in range(num_tasks)]\n",
        "end_time = time.time()\n",
        "print(f\"Normal Python execution time: {end_time - start_time} seconds\")\n",
        "print(f\"Normal Python results: {results_normal}\")\n",
        "\n",
        "# Ray parallel execution\n",
        "start_time = time.time()\n",
        "futures = [square_ray.remote(i) for i in range(num_tasks)]\n",
        "results_ray = ray.get(futures)\n",
        "end_time = time.time()\n",
        "print(f\"Ray parallel execution time: {end_time - start_time} seconds\")\n",
        "print(f\"Ray parallel results: {results_ray}\")\n"
      ],
      "metadata": {
        "colab": {
          "base_uri": "https://localhost:8080/"
        },
        "id": "rumeIdX_B2c9",
        "outputId": "709bbb52-0311-454f-8eb6-e6645a06b802"
      },
      "execution_count": 5,
      "outputs": [
        {
          "output_type": "stream",
          "name": "stdout",
          "text": [
            "Normal Python execution time: 5.004734992980957 seconds\n",
            "Normal Python results: [0, 1, 4, 9, 16]\n",
            "Ray parallel execution time: 3.033726692199707 seconds\n",
            "Ray parallel results: [0, 1, 4, 9, 16]\n"
          ]
        }
      ]
    },
    {
      "cell_type": "markdown",
      "source": [
        "## actors are stateful they have memory unlike tasks"
      ],
      "metadata": {
        "id": "vW0dyHyYQfQ-"
      }
    },
    {
      "cell_type": "code",
      "source": [
        "@ray.remote\n",
        "class Assistant:\n",
        "    def __init__(self):\n",
        "        self.tasks_completed = 0\n",
        "\n",
        "    def do_task(self):\n",
        "        self.tasks_completed += 1\n",
        "        return f\"Completed task. Total tasks done: {self.tasks_completed}\"\n",
        "alex = Assistant.remote()\n",
        "print(ray.get(alex.do_task.remote()))  # Output: Completed task. Total tasks done: 1\n",
        "print(ray.get(alex.do_task.remote()))  # Output: Completed task. Total tasks done: 2"
      ],
      "metadata": {
        "colab": {
          "base_uri": "https://localhost:8080/"
        },
        "id": "H-C4Sf8TNQe_",
        "outputId": "d844c35e-c57f-4bbe-c03a-9ecee688f9fb"
      },
      "execution_count": 7,
      "outputs": [
        {
          "output_type": "stream",
          "name": "stdout",
          "text": [
            "Completed task. Total tasks done: 1\n",
            "Completed task. Total tasks done: 2\n"
          ]
        }
      ]
    },
    {
      "cell_type": "markdown",
      "source": [
        "## Each actor maintains their own state"
      ],
      "metadata": {
        "id": "iTMY9u65RLNK"
      }
    },
    {
      "cell_type": "code",
      "source": [
        "alex = Assistant.remote()\n",
        "bob = Assistant.remote()\n",
        "\n",
        "# Alex and Bob can work at the same time\n",
        "alex_task = alex.do_task.remote()\n",
        "bob_task = bob.do_task.remote()\n",
        "\n",
        "print(ray.get(alex_task))  # Output: Completed task. Total tasks done: 1\n",
        "print(ray.get(bob_task))   # Output: Completed task. Total tasks done: 1"
      ],
      "metadata": {
        "colab": {
          "base_uri": "https://localhost:8080/"
        },
        "id": "qJJWtWibQmu-",
        "outputId": "3ff9013a-e90a-4259-80f0-0f97d20c6b62"
      },
      "execution_count": 9,
      "outputs": [
        {
          "output_type": "stream",
          "name": "stdout",
          "text": [
            "Completed task. Total tasks done: 1\n",
            "Completed task. Total tasks done: 1\n"
          ]
        }
      ]
    },
    {
      "cell_type": "markdown",
      "source": [
        "## actors are single threaded in nature"
      ],
      "metadata": {
        "id": "NUcVJeOdR826"
      }
    },
    {
      "cell_type": "code",
      "source": [
        "@ray.remote\n",
        "class Chef:\n",
        "    def make_sandwich(self):\n",
        "        print(\"Starting to make a sandwich\")\n",
        "        time.sleep(3)  # Pretend it takes 3 seconds to make a sandwich\n",
        "        print(\"Finished making a sandwich\")\n",
        "        return \"Sandwich ready!\"\n",
        "\n",
        "    def make_salad(self):\n",
        "        print(\"Starting to make a salad\")\n",
        "        time.sleep(2)  # Pretend it takes 2 seconds to make a salad\n",
        "        print(\"Finished making a salad\")\n",
        "        return \"Salad ready!\"\n",
        "\n",
        "# Hire our chef\n",
        "chef = Chef.remote()\n",
        "\n",
        "# Ask the chef to make a sandwich and a salad\n",
        "sandwich_order = chef.make_sandwich.remote()\n",
        "salad_order = chef.make_salad.remote()\n",
        "\n",
        "# Get the results\n",
        "print(ray.get(sandwich_order))\n",
        "print(ray.get(salad_order))\n"
      ],
      "metadata": {
        "colab": {
          "base_uri": "https://localhost:8080/"
        },
        "id": "aj6nZTI5RT2h",
        "outputId": "3f9fbde8-106e-44ce-cd7c-ed2c0d2f75c3"
      },
      "execution_count": 10,
      "outputs": [
        {
          "output_type": "stream",
          "name": "stdout",
          "text": [
            "\u001b[36m(Chef pid=19557)\u001b[0m Starting to make a sandwich\n",
            "\u001b[36m(Chef pid=19557)\u001b[0m Finished making a sandwich\n",
            "Sandwich ready!\n",
            "\u001b[36m(Chef pid=19557)\u001b[0m Starting to make a salad\n",
            "Salad ready!\n",
            "\u001b[36m(Chef pid=19557)\u001b[0m Finished making a salad\n"
          ]
        }
      ]
    },
    {
      "cell_type": "code",
      "source": [
        "@ray.remote\n",
        "class Worker:\n",
        "    def task(self, id):\n",
        "        time.sleep(1)  # Simulate work\n",
        "        return f\"Task {id} done\"\n",
        "\n",
        "# Single actor, multiple calls\n",
        "single_worker = Worker.remote()\n",
        "start = time.time()\n",
        "future1 = single_worker.task.remote(1)\n",
        "future2 = single_worker.task.remote(2)\n",
        "future3 = single_worker.task.remote(3)\n",
        "results_single = ray.get([future1, future2, future3])\n",
        "end = time.time()\n",
        "print(f\"Single actor results: {results_single}\")\n",
        "print(f\"Single actor time: {end - start:.2f} seconds\")\n",
        "\n",
        "# Multiple actors, one call each\n",
        "start = time.time()\n",
        "worker1 = Worker.remote()\n",
        "worker2 = Worker.remote()\n",
        "worker3 = Worker.remote()\n",
        "future1 = worker1.task.remote(1)\n",
        "future2 = worker2.task.remote(2)\n",
        "future3 = worker3.task.remote(3)\n",
        "results_multi = ray.get([future1, future2, future3])\n",
        "end = time.time()\n",
        "print(f\"Multiple actors results: {results_multi}\")\n",
        "print(f\"Multiple actors time: {end - start:.2f} seconds\")"
      ],
      "metadata": {
        "colab": {
          "base_uri": "https://localhost:8080/"
        },
        "id": "Z-nUTf3TTOTG",
        "outputId": "f8930619-2f12-4cbc-99ca-9cf3aaeb835f"
      },
      "execution_count": 12,
      "outputs": [
        {
          "output_type": "stream",
          "name": "stdout",
          "text": [
            "\u001b[33m(raylet)\u001b[0m WARNING: 12 PYTHON worker processes have been started on node: cdb143b33332977f2ef17a90573d3976264e29fee369b790e4dec20d with address: 172.28.0.12. This could be a result of using a large number of actors, or due to tasks blocked in ray.get() calls (see https://github.com/ray-project/ray/issues/3644 for some discussion of workarounds).\n",
            "Single actor results: ['Task 1 done', 'Task 2 done', 'Task 3 done']\n",
            "Single actor time: 3.76 seconds\n",
            "Multiple actors results: ['Task 1 done', 'Task 2 done', 'Task 3 done']\n",
            "Multiple actors time: 2.78 seconds\n"
          ]
        }
      ]
    },
    {
      "cell_type": "markdown",
      "source": [
        "\n",
        "1. Single Actor Performance:\n",
        "   - All three tasks were completed successfully.\n",
        "   - Total execution time: 3.76 seconds.\n",
        "   - This is consistent with sequential execution (about 1 second per task).\n",
        "\n",
        "2. Multiple Actors Performance:\n",
        "   - All three tasks were completed successfully.\n",
        "   - Total execution time: 2.78 seconds.\n",
        "   - This is faster than the single actor, showing some parallelism, but not full parallelism (which would be closer to 1 second).\n",
        "\n",
        "\n",
        "Key Observations:\n",
        "1. The multiple actors approach is faster, demonstrating some level of parallelism.\n",
        "2. However, the multiple actors didn't achieve the theoretical maximum parallelism (which would be close to 1 second) because we are running on collab with limited resources\n",
        "\n",
        "\n",
        "Overall, this output shows that using multiple actors does provide a performance benefit, but the system may not have enough resources to run all actors fully in parallel. The warning suggests that you might be approaching the limits of your system's capacity to handle concurrent Ray tasks or actors."
      ],
      "metadata": {
        "id": "lQUvihtIVWIE"
      }
    },
    {
      "cell_type": "code",
      "source": [
        "import numpy as np"
      ],
      "metadata": {
        "id": "SoqiyFlMUa6j"
      },
      "execution_count": 13,
      "outputs": []
    },
    {
      "cell_type": "markdown",
      "source": [
        "### Using ray.put() to store data in ray object store"
      ],
      "metadata": {
        "id": "tk8_2MT7d1je"
      }
    },
    {
      "cell_type": "code",
      "source": [
        "# Example 1: Storing a simple Python object\n",
        "data = [1, 2, 3, 4, 5]\n",
        "data_ref = ray.put(data)\n",
        "print(\"ObjectRef for data:\", data_ref)\n",
        "retrieved_data = ray.get(data_ref)\n",
        "print(\"Retrieved data:\", retrieved_data)\n"
      ],
      "metadata": {
        "colab": {
          "base_uri": "https://localhost:8080/"
        },
        "id": "Gvy4Z73cdxJt",
        "outputId": "05e9c017-4ceb-4a01-edb5-f529b385608a"
      },
      "execution_count": 14,
      "outputs": [
        {
          "output_type": "stream",
          "name": "stdout",
          "text": [
            "ObjectRef for data: ObjectRef(00ffffffffffffffffffffffffffffffffffffff0100000001e1f505)\n",
            "Retrieved data: [1, 2, 3, 4, 5]\n"
          ]
        }
      ]
    },
    {
      "cell_type": "code",
      "source": [
        "# Example 2: Storing a large NumPy array\n",
        "large_array = np.random.rand(1000000)\n",
        "array_ref = ray.put(large_array)\n",
        "print(\"ObjectRef for large array:\", array_ref)\n",
        "retrieved_array = ray.get(array_ref)\n",
        "print(\"Shape of retrieved array:\", retrieved_array.shape)"
      ],
      "metadata": {
        "colab": {
          "base_uri": "https://localhost:8080/"
        },
        "id": "JU-qbqRndzNB",
        "outputId": "e729e5c5-abc1-4ef5-a137-9e96c77709b9"
      },
      "execution_count": 15,
      "outputs": [
        {
          "output_type": "stream",
          "name": "stdout",
          "text": [
            "ObjectRef for large array: ObjectRef(00ffffffffffffffffffffffffffffffffffffff0100000002e1f505)\n",
            "Shape of retrieved array: (1000000,)\n"
          ]
        }
      ]
    },
    {
      "cell_type": "code",
      "source": [
        "@ray.remote\n",
        "def process_data(data):\n",
        "    # No need to use ray.get() here, 'data' is already the actual data\n",
        "    return sum(data)\n",
        "\n",
        "# Create some data\n",
        "data = [1, 2, 3, 4, 5]\n",
        "\n",
        "# Put the data in the object store and get an ObjectRef\n",
        "data_ref = ray.put(data)\n",
        "\n",
        "# Call the remote function with the ObjectRef\n",
        "result_ref = process_data.remote(data_ref)\n",
        "\n",
        "# Get the result\n",
        "result = ray.get(result_ref)\n",
        "print(\"Sum of data:\", result)"
      ],
      "metadata": {
        "colab": {
          "base_uri": "https://localhost:8080/"
        },
        "id": "AYeo67UMd-b_",
        "outputId": "989c0609-77c1-4980-ddef-a01649d1f39d"
      },
      "execution_count": 17,
      "outputs": [
        {
          "output_type": "stream",
          "name": "stdout",
          "text": [
            "Sum of data: 15\n"
          ]
        }
      ]
    },
    {
      "cell_type": "markdown",
      "source": [
        "Inside remote functions, you receive the actual data, not the ObjectRef. So you don't need to use ray.get() there.\n",
        "Use ray.get() only when you want to retrieve results from a remote function call."
      ],
      "metadata": {
        "id": "QMNij-lge5y6"
      }
    },
    {
      "cell_type": "code",
      "source": [],
      "metadata": {
        "id": "0SAD4T89eLT8"
      },
      "execution_count": null,
      "outputs": []
    }
  ]
}